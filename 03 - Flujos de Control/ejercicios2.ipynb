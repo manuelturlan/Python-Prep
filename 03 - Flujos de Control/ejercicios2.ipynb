{
 "cells": [
  {
   "cell_type": "markdown",
   "metadata": {},
   "source": [
    "1) Crear una variable que contenga un elemento del conjunto de números enteros y luego imprimir por pantalla si es mayor o menor a cero"
   ]
  },
  {
   "cell_type": "code",
   "execution_count": 3,
   "metadata": {},
   "outputs": [
    {
     "name": "stdout",
     "output_type": "stream",
     "text": [
      "Es mayor a cero\n"
     ]
    }
   ],
   "source": [
    "num1 = 21\n",
    "\n",
    "if num1 > 0:\n",
    "    print('Es mayor a cero')\n",
    "else:\n",
    "    print(\"Es menor a cero\")"
   ]
  },
  {
   "cell_type": "markdown",
   "metadata": {},
   "source": [
    "2) Crear dos variables y un condicional que informe si son del mismo tipo de dato"
   ]
  },
  {
   "cell_type": "code",
   "execution_count": 5,
   "metadata": {},
   "outputs": [
    {
     "name": "stdout",
     "output_type": "stream",
     "text": [
      "No son un mismo tipo de dato\n"
     ]
    }
   ],
   "source": [
    "var1 = \"Manuel\"\n",
    "var2 = 21\n",
    "\n",
    "if type(var1) == type(var2):\n",
    "    print(\"Son un mismo tipo de dato\")\n",
    "else:\n",
    "    print(\"No son un mismo tipo de dato\")"
   ]
  },
  {
   "cell_type": "markdown",
   "metadata": {},
   "source": [
    "3) Para los valores enteros del 1 al 20, imprimir por pantalla si es par o impar"
   ]
  },
  {
   "cell_type": "code",
   "execution_count": null,
   "metadata": {},
   "outputs": [],
   "source": [
    "for i in range(1, 21):\n",
    "    if i % 2 == 0:\n",
    "        print(i, \"Es par\")\n",
    "    else:\n",
    "        print(i, \"Es impar\")\n"
   ]
  },
  {
   "cell_type": "markdown",
   "metadata": {},
   "source": [
    "4) En un ciclo for mostrar para los valores entre 0 y 5 el resultado de elevarlo a la potencia igual a 3"
   ]
  },
  {
   "cell_type": "code",
   "execution_count": 11,
   "metadata": {},
   "outputs": [
    {
     "name": "stdout",
     "output_type": "stream",
     "text": [
      "0\n",
      "1\n",
      "8\n",
      "27\n",
      "64\n",
      "125\n"
     ]
    }
   ],
   "source": [
    "for x in range (0, 6):\n",
    "    print(x**3)"
   ]
  },
  {
   "cell_type": "markdown",
   "metadata": {},
   "source": [
    "5) Crear una variable que contenga un número entero y realizar un ciclo for la misma cantidad de ciclos"
   ]
  },
  {
   "cell_type": "code",
   "execution_count": null,
   "metadata": {},
   "outputs": [],
   "source": [
    "num2 = 10\n",
    "\n",
    "for x in range(num2):\n",
    "    print(x)\n"
   ]
  },
  {
   "cell_type": "markdown",
   "metadata": {},
   "source": [
    "6) Utilizar un ciclo while para realizar el factoreo de un número guardado en una variable, sólo si la variable contiene un número entero mayor a 0"
   ]
  },
  {
   "cell_type": "code",
   "execution_count": null,
   "metadata": {},
   "outputs": [],
   "source": [
    "# El factorial sería esto 8! = 1 * 2 * 3 * 4 * 5 * 6 * 7 * 8\n",
    "# O sea que el factorial de 8 sería 40.320\n",
    "\n",
    "\n",
    "def esFactorial(num):\n",
    "    my_num = 1\n",
    "    if num > 0:\n",
    "        for x in range(2, num+1):\n",
    "            my_num = my_num * x\n",
    "            print(my_num)\n",
    "\n",
    "esFactorial(8)\n"
   ]
  },
  {
   "cell_type": "markdown",
   "metadata": {},
   "source": [
    "7) Crear un ciclo for dentro de un ciclo while"
   ]
  },
  {
   "cell_type": "code",
   "execution_count": null,
   "metadata": {},
   "outputs": [],
   "source": [
    "num = 1\n",
    "\n",
    "while num < 10:\n",
    "    for num in range(0, 11):\n",
    "        print(num)\n",
    "        \"\"\" if num == 10:\n",
    "            break; \"\"\""
   ]
  },
  {
   "cell_type": "markdown",
   "metadata": {},
   "source": [
    "8) Crear un ciclo while dentro de un ciclo for"
   ]
  },
  {
   "cell_type": "code",
   "execution_count": null,
   "metadata": {},
   "outputs": [],
   "source": [
    "for x in range(11):\n",
    "    while x < 11:\n",
    "        x +=1\n",
    "        print(\"Hola\")\n"
   ]
  },
  {
   "cell_type": "markdown",
   "metadata": {},
   "source": [
    "9) Imprimir los números primos existentes entre 0 y 30"
   ]
  },
  {
   "cell_type": "code",
   "execution_count": null,
   "metadata": {},
   "outputs": [],
   "source": [
    "# Un número primo es un número que únicamente tiene 2 divisores, ej: 3*1 - 3*3 - NO ES: 4*1 - 4*2 - 4*4\n",
    "\n",
    "# Acá irían la cantidad de números divisores de un número\n",
    "\n",
    "# una idea es ir aumentando una variable contador cada vez que ingrese al if de la comprobación de divisores\n",
    "\n",
    "# Imprimimos los números entre 0 y 30\n",
    "# Hay que operar sobre estos números, hay que comprobar si son primos o no\n",
    "\n",
    "\n",
    "# Esta es una forma de obtener los números primos, pero no me sirve ya que no es en bucle hasta el 30, es individual\n",
    "\n",
    "\n",
    "\"\"\" def esPrimo(num):\n",
    "    \n",
    "    count = 0\n",
    "    \n",
    "    for x in range(1, num+1):\n",
    "        if num % x == 0:\n",
    "            count = count+1\n",
    "    \n",
    "    if count > 2:\n",
    "        print(f'El número {x} no es PRIMO') \n",
    "    else:\n",
    "        print(f'El número {x} si es PRIMO')\n",
    "\n",
    "esPrimo(30) \"\"\"\n",
    "\n",
    "# Esta es la manera en la que debería funcionar\n",
    "\n",
    "\n",
    "\n",
    "tope_rango = 30\n",
    "n = 0\n",
    "primo = True\n",
    "\n",
    "while tope_rango > n:\n",
    "    for div in range(2, n):\n",
    "        if (n % div) == 0:\n",
    "            primo = False\n",
    "    if (primo):\n",
    "        print(n)\n",
    "    else:\n",
    "        primo = True\n",
    "    n+=1\n",
    "\n",
    "\n",
    "\n"
   ]
  },
  {
   "cell_type": "markdown",
   "metadata": {},
   "source": [
    "10) ¿Se puede mejorar el proceso del punto 9? Utilizar las sentencias break y/ó continue para tal fin"
   ]
  },
  {
   "cell_type": "code",
   "execution_count": null,
   "metadata": {},
   "outputs": [],
   "source": [
    "tope_rango = 30\n",
    "n = 0\n",
    "primo = True\n",
    "\n",
    "while tope_rango > n:\n",
    "    for div in range(2, n):\n",
    "        if (n % div) == 0:\n",
    "            primo = False\n",
    "            break\n",
    "    if (primo):\n",
    "        print(n)\n",
    "    else:\n",
    "        primo = True\n",
    "    n+=1\n",
    "\n",
    "    # 936 steps without break sentence\n",
    "    # 440 steps with break sentence"
   ]
  },
  {
   "cell_type": "markdown",
   "metadata": {},
   "source": [
    "11) En los puntos 9 y 10, se diseño un código que encuentra números primos y además se lo optimizó. ¿Es posible saber en qué medida se optimizó?"
   ]
  },
  {
   "cell_type": "code",
   "execution_count": null,
   "metadata": {},
   "outputs": [],
   "source": [
    "tope_rango = 30\n",
    "n = 0\n",
    "primo = True\n",
    "\n",
    "while tope_rango > n:\n",
    "    for div in range(2, n):\n",
    "        if (n % div) == 0:\n",
    "            primo = False\n",
    "            break\n",
    "    if (primo):\n",
    "        print(n)\n",
    "    else:\n",
    "        primo = True\n",
    "    n+=1\n",
    "\n",
    "# Se optimizó acortando 496 steps"
   ]
  },
  {
   "cell_type": "markdown",
   "metadata": {},
   "source": [
    "12) Si la cantidad de números que se evalúa es mayor a treinta, esa optimización crece?"
   ]
  },
  {
   "cell_type": "code",
   "execution_count": null,
   "metadata": {},
   "outputs": [],
   "source": [
    "tope_rango = 30\n",
    "n = 0\n",
    "primo = True\n",
    "\n",
    "while tope_rango > n:\n",
    "    for div in range(2, n):\n",
    "        if (n % div) == 0:\n",
    "            primo = False\n",
    "            break\n",
    "    if (primo):\n",
    "        print(n)\n",
    "    else:\n",
    "        primo = True\n",
    "    n+=1\n",
    "\n",
    "# Sí, tiene un crecimiento exponencial dependiendo de la cantidad de números que se le asigne"
   ]
  },
  {
   "cell_type": "markdown",
   "metadata": {},
   "source": [
    "13) Aplicando continue, armar un ciclo while que solo imprima los valores divisibles por 12, dentro del rango de números de 100 a 300"
   ]
  },
  {
   "cell_type": "code",
   "execution_count": null,
   "metadata": {},
   "outputs": [],
   "source": [
    "min_range = 100\n",
    "max_range = 300\n",
    "\n",
    "while min_range < max_range:\n",
    "    min_range=min_range + 1\n",
    "    if min_range % 12 == 0:\n",
    "        print(min_range)\n",
    "    else:\n",
    "        continue"
   ]
  },
  {
   "cell_type": "markdown",
   "metadata": {},
   "source": [
    "14) Utilizar la función **input()** que permite hacer ingresos por teclado, para encontrar números primos y dar la opción al usario de buscar el siguiente"
   ]
  },
  {
   "cell_type": "code",
   "execution_count": null,
   "metadata": {},
   "outputs": [],
   "source": [
    "var1 = int(input(\"Ingrese un número para saber si es primo o no\"))\n",
    "\n",
    "def esPrimo(num):\n",
    "    \n",
    "    count = 0\n",
    "    \n",
    "    for x in range(1, num+1):\n",
    "        if num % x == 0:\n",
    "            count = count+1\n",
    "    \n",
    "    if count > 2:\n",
    "        print(f'El número {x} no es PRIMO') \n",
    "    else:\n",
    "        print(f'El número {x} si es PRIMO')\n",
    "\n",
    "esPrimo(var1)"
   ]
  },
  {
   "cell_type": "markdown",
   "metadata": {},
   "source": [
    "15) Crear un ciclo while que encuentre dentro del rango de 100 a 300 el primer número divisible por 3 y además múltiplo de 6"
   ]
  },
  {
   "cell_type": "code",
   "execution_count": 27,
   "metadata": {},
   "outputs": [
    {
     "name": "stdout",
     "output_type": "stream",
     "text": [
      "El número es:  102\n"
     ]
    }
   ],
   "source": [
    "min_range = 100\n",
    "max_range = 300\n",
    "\n",
    "while min_range < max_range:\n",
    "    min_range=min_range + 1\n",
    "    if min_range % 6 == 0:\n",
    "        print(min_range)\n",
    "        break\n",
    "    else:\n",
    "        continue"
   ]
  }
 ],
 "metadata": {
  "interpreter": {
   "hash": "9d9f1dc392ea90dbcb31e13d78a4058cfe7591b7182d78b274b5a7989bbb6d31"
  },
  "kernelspec": {
   "display_name": "Python 3.10.2 64-bit",
   "language": "python",
   "name": "python3"
  },
  "language_info": {
   "codemirror_mode": {
    "name": "ipython",
    "version": 3
   },
   "file_extension": ".py",
   "mimetype": "text/x-python",
   "name": "python",
   "nbconvert_exporter": "python",
   "pygments_lexer": "ipython3",
   "version": "3.10.2"
  },
  "orig_nbformat": 4
 },
 "nbformat": 4,
 "nbformat_minor": 2
}
